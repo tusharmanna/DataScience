{
  "nbformat": 4,
  "nbformat_minor": 0,
  "metadata": {
    "colab": {
      "name": "Untitled4.ipynb",
      "provenance": [],
      "collapsed_sections": [],
      "include_colab_link": true
    },
    "kernelspec": {
      "name": "python3",
      "display_name": "Python 3"
    }
  },
  "cells": [
    {
      "cell_type": "markdown",
      "metadata": {
        "id": "view-in-github",
        "colab_type": "text"
      },
      "source": [
        "<a href=\"https://colab.research.google.com/github/tusharmanna/DataScience/blob/master/pythonbasics.ipynb\" target=\"_parent\"><img src=\"https://colab.research.google.com/assets/colab-badge.svg\" alt=\"Open In Colab\"/></a>"
      ]
    },
    {
      "cell_type": "code",
      "metadata": {
        "id": "WqgbtmaAX0R8",
        "colab_type": "code",
        "colab": {
          "base_uri": "https://localhost:8080/",
          "height": 136
        },
        "outputId": "889bbaf6-151d-48c3-840e-aa3381a434fd"
      },
      "source": [
        "number_of_friends = 10\n",
        "number_of_friends = 15\n",
        "paycheck = 789.53\n",
        "# paycheck = 789\n",
        "print(paycheck)\n",
        "\n",
        "isDoorOpen = False\n",
        "isDoorOpen = 5 > 2\n",
        "\n",
        "print(isDoorOpen)\n",
        "\n",
        "print(5 != 2)\n",
        "print(\"a\" > \"b\")\n",
        "\n",
        "year = 2018\n",
        "print(type(year))\n",
        "year = '2018'\n",
        "print(type(year))\n",
        "\n",
        "print(str(isDoorOpen))\n",
        "\n",
        "full_name = ('Nimish', 'Narang')\n",
        "other_full_name = ('John', 'Smith')\n",
        "\n",
        "inventory_item = ('apple', 5)\n",
        "\n",
        "roster = ['Nimish', 'John', 'Kate', 'Sarah', 'Kevin']\n",
        "\n",
        "inventory = {'apple': 5, 'knife': 1, 'shoes': 2}\n",
        "\n",
        "first_name = full_name[0]\n",
        "first_person = roster[0]\n",
        "apple_quantity = inventory['apple']\n"
      ],
      "execution_count": 11,
      "outputs": [
        {
          "output_type": "stream",
          "text": [
            "789.53\n",
            "True\n",
            "True\n",
            "False\n",
            "<class 'int'>\n",
            "<class 'str'>\n",
            "True\n"
          ],
          "name": "stdout"
        }
      ]
    },
    {
      "cell_type": "code",
      "metadata": {
        "id": "SJIkvmJWFBkL",
        "colab_type": "code",
        "colab": {
          "base_uri": "https://localhost:8080/",
          "height": 34
        },
        "outputId": "fc3f6464-9765-4305-d5ca-9eeaaaef76ff"
      },
      "source": [
        "first_person\n"
      ],
      "execution_count": 14,
      "outputs": [
        {
          "output_type": "execute_result",
          "data": {
            "text/plain": [
              "'Nimish'"
            ]
          },
          "metadata": {
            "tags": []
          },
          "execution_count": 14
        }
      ]
    },
    {
      "cell_type": "code",
      "metadata": {
        "id": "9CpdrtvOFHai",
        "colab_type": "code",
        "colab": {
          "base_uri": "https://localhost:8080/",
          "height": 34
        },
        "outputId": "3e8a61c6-99d1-4346-ea05-c31e2460c9e4"
      },
      "source": [
        "inventory['knife'] = 5\n",
        "print(inventory)"
      ],
      "execution_count": 15,
      "outputs": [
        {
          "output_type": "stream",
          "text": [
            "{'apple': 5, 'knife': 5, 'shoes': 2}\n"
          ],
          "name": "stdout"
        }
      ]
    },
    {
      "cell_type": "code",
      "metadata": {
        "id": "6ri5HmmmFHmC",
        "colab_type": "code",
        "colab": {
          "base_uri": "https://localhost:8080/",
          "height": 51
        },
        "outputId": "c9d44462-ff4a-4bd0-a596-cc664caaa0e9"
      },
      "source": [
        "bank_balance = 200.00\n",
        "item_cost = 100.00\n",
        "item_inventory = 1\n",
        "\n",
        "if item_cost < bank_balance and item_inventory >= 1:\n",
        "    bank_balance -= item_cost\n",
        "    print(\"transaction successful\")\n",
        "    print(bank_balance)\n",
        "elif item_cost == bank_balance and item_inventory >= 1:\n",
        "    bank_balance -= item_cost\n",
        "    print(\"transaction successful, but no funds left\")\n",
        "    print(bank_balance)\n",
        "else:\n",
        "    if item_inventory < 1:\n",
        "        print(\"not enough inventory\")\n",
        "    else:\n",
        "        print(\"transaction failed, insufficient funds\")\n",
        "    print(bank_balance)"
      ],
      "execution_count": 19,
      "outputs": [
        {
          "output_type": "stream",
          "text": [
            "transaction successful\n",
            "100.0\n"
          ],
          "name": "stdout"
        }
      ]
    },
    {
      "cell_type": "code",
      "metadata": {
        "id": "I2RDyb1yGC6z",
        "colab_type": "code",
        "colab": {}
      },
      "source": [
        "total = 0\n",
        "index = 1\n",
        "while index <= 10:\n",
        "    if index % 2 == 0:\n",
        "        index += 1\n",
        "        continue\n",
        "    total += index\n",
        "    index += 1"
      ],
      "execution_count": 0,
      "outputs": []
    },
    {
      "cell_type": "code",
      "metadata": {
        "id": "4WMz0QeUIMO-",
        "colab_type": "code",
        "colab": {}
      },
      "source": [
        "starting_position = 5\n",
        "position = 5"
      ],
      "execution_count": 0,
      "outputs": []
    },
    {
      "cell_type": "code",
      "metadata": {
        "id": "PNKjldwtIQl6",
        "colab_type": "code",
        "colab": {}
      },
      "source": [
        "\n",
        "def move_player(by_amount):\n",
        "    global starting_position\n",
        "    position = starting_position + by_amount\n",
        "    return position\n",
        "\n",
        "\n",
        "def move_player(current_position, by_amount):\n",
        "    return current_position + by_amount"
      ],
      "execution_count": 0,
      "outputs": []
    },
    {
      "cell_type": "code",
      "metadata": {
        "id": "n1jHwWPsIkEK",
        "colab_type": "code",
        "colab": {
          "base_uri": "https://localhost:8080/",
          "height": 85
        },
        "outputId": "e48e1265-5b02-45ff-993f-4d8ffd45d0a4"
      },
      "source": [
        "print(starting_position)\n",
        "new_position = move_player(starting_position, 2)\n",
        "print(new_position)\n",
        "new_position = move_player(new_position, -5)\n",
        "print(new_position)\n",
        "print(\"difference between start and end is\", starting_position - new_position)"
      ],
      "execution_count": 27,
      "outputs": [
        {
          "output_type": "stream",
          "text": [
            "5\n",
            "7\n",
            "2\n",
            "difference between start and end is 3\n"
          ],
          "name": "stdout"
        }
      ]
    },
    {
      "cell_type": "code",
      "metadata": {
        "id": "EFZm08GTSeI2",
        "colab_type": "code",
        "colab": {}
      },
      "source": [
        "class GameCharacter:\n",
        "\n",
        "    # attributes here\n",
        "    name = ''\n",
        "    health = 100\n",
        "    position = 0\n",
        "\n",
        "    # initializer\n",
        "    def __init__(self, name, position):\n",
        "        self.name = name\n",
        "        self.position = position\n",
        "\n",
        "    # behaviours\n",
        "    def move_by(self, amount):\n",
        "        self.position += amount\n",
        "\n",
        "    def heal_self(self, by_amount):\n",
        "        self.health += by_amount\n",
        "        if self.health > 100:\n",
        "            self.health = 100\n"
      ],
      "execution_count": 0,
      "outputs": []
    },
    {
      "cell_type": "code",
      "metadata": {
        "id": "0ljGfCjmSv-z",
        "colab_type": "code",
        "colab": {
          "base_uri": "https://localhost:8080/",
          "height": 85
        },
        "outputId": "6b58cb67-605c-41c7-a46d-61dd43e099ee"
      },
      "source": [
        "new_character = GameCharacter('Nimish', 10)\n",
        "print(new_character)\n",
        "print(new_character.name)\n",
        "print(new_character.health)\n",
        "print(new_character.position)\n"
      ],
      "execution_count": 2,
      "outputs": [
        {
          "output_type": "stream",
          "text": [
            "<__main__.GameCharacter object at 0x7f7a4b086b38>\n",
            "Nimish\n",
            "100\n",
            "10\n"
          ],
          "name": "stdout"
        }
      ]
    },
    {
      "cell_type": "code",
      "metadata": {
        "id": "V8LKKMkaS5dL",
        "colab_type": "code",
        "colab": {
          "base_uri": "https://localhost:8080/",
          "height": 51
        },
        "outputId": "6ea14313-87ab-490b-fbfc-eb6e75730637"
      },
      "source": [
        "new_character.move_by(10)\n",
        "print(new_character.position)\n",
        "new_character.health = 80\n",
        "new_character.heal_self(40)\n",
        "print(new_character.health)"
      ],
      "execution_count": 3,
      "outputs": [
        {
          "output_type": "stream",
          "text": [
            "20\n",
            "100\n"
          ],
          "name": "stdout"
        }
      ]
    }
  ]
}